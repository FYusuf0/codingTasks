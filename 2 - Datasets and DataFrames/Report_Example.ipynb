{
 "cells": [
  {
   "cell_type": "code",
   "execution_count": 54,
   "id": "c7cd8d7a-4a76-4234-80d2-645de985762f",
   "metadata": {},
   "outputs": [],
   "source": [
    "import pandas as pd"
   ]
  },
  {
   "cell_type": "code",
   "execution_count": 55,
   "id": "d005d897-34ae-4473-8234-cc1aac613aaf",
   "metadata": {},
   "outputs": [],
   "source": [
    "# Create DataFrame with balance.txt\n",
    "df = pd.read_csv('balance.txt', sep=' ')"
   ]
  },
  {
   "cell_type": "code",
   "execution_count": 56,
   "id": "6b42fefd-dc41-4f5c-8041-8b2319eeb756",
   "metadata": {},
   "outputs": [
    {
     "data": {
      "text/html": [
       "<div>\n",
       "<style scoped>\n",
       "    .dataframe tbody tr th:only-of-type {\n",
       "        vertical-align: middle;\n",
       "    }\n",
       "\n",
       "    .dataframe tbody tr th {\n",
       "        vertical-align: top;\n",
       "    }\n",
       "\n",
       "    .dataframe thead th {\n",
       "        text-align: right;\n",
       "    }\n",
       "</style>\n",
       "<table border=\"1\" class=\"dataframe\">\n",
       "  <thead>\n",
       "    <tr style=\"text-align: right;\">\n",
       "      <th></th>\n",
       "      <th>Balance</th>\n",
       "      <th>Income</th>\n",
       "      <th>Limit</th>\n",
       "      <th>Rating</th>\n",
       "      <th>Cards</th>\n",
       "      <th>Age</th>\n",
       "      <th>Education</th>\n",
       "      <th>Gender</th>\n",
       "      <th>Student</th>\n",
       "      <th>Married</th>\n",
       "      <th>Ethnicity</th>\n",
       "    </tr>\n",
       "  </thead>\n",
       "  <tbody>\n",
       "    <tr>\n",
       "      <th>0</th>\n",
       "      <td>12.240798</td>\n",
       "      <td>14.891</td>\n",
       "      <td>3606</td>\n",
       "      <td>283</td>\n",
       "      <td>2</td>\n",
       "      <td>34</td>\n",
       "      <td>11</td>\n",
       "      <td>Male</td>\n",
       "      <td>No</td>\n",
       "      <td>Yes</td>\n",
       "      <td>Caucasian</td>\n",
       "    </tr>\n",
       "    <tr>\n",
       "      <th>1</th>\n",
       "      <td>23.283334</td>\n",
       "      <td>106.025</td>\n",
       "      <td>6645</td>\n",
       "      <td>483</td>\n",
       "      <td>3</td>\n",
       "      <td>82</td>\n",
       "      <td>15</td>\n",
       "      <td>Female</td>\n",
       "      <td>Yes</td>\n",
       "      <td>Yes</td>\n",
       "      <td>Asian</td>\n",
       "    </tr>\n",
       "    <tr>\n",
       "      <th>2</th>\n",
       "      <td>22.530409</td>\n",
       "      <td>104.593</td>\n",
       "      <td>7075</td>\n",
       "      <td>514</td>\n",
       "      <td>4</td>\n",
       "      <td>71</td>\n",
       "      <td>11</td>\n",
       "      <td>Male</td>\n",
       "      <td>No</td>\n",
       "      <td>No</td>\n",
       "      <td>Asian</td>\n",
       "    </tr>\n",
       "    <tr>\n",
       "      <th>3</th>\n",
       "      <td>27.652811</td>\n",
       "      <td>148.924</td>\n",
       "      <td>9504</td>\n",
       "      <td>681</td>\n",
       "      <td>3</td>\n",
       "      <td>36</td>\n",
       "      <td>11</td>\n",
       "      <td>Female</td>\n",
       "      <td>No</td>\n",
       "      <td>No</td>\n",
       "      <td>Asian</td>\n",
       "    </tr>\n",
       "    <tr>\n",
       "      <th>4</th>\n",
       "      <td>16.893978</td>\n",
       "      <td>55.882</td>\n",
       "      <td>4897</td>\n",
       "      <td>357</td>\n",
       "      <td>2</td>\n",
       "      <td>68</td>\n",
       "      <td>16</td>\n",
       "      <td>Male</td>\n",
       "      <td>No</td>\n",
       "      <td>Yes</td>\n",
       "      <td>Caucasian</td>\n",
       "    </tr>\n",
       "  </tbody>\n",
       "</table>\n",
       "</div>"
      ],
      "text/plain": [
       "     Balance   Income  Limit  Rating  Cards  Age  Education  Gender Student  \\\n",
       "0  12.240798   14.891   3606     283      2   34         11    Male      No   \n",
       "1  23.283334  106.025   6645     483      3   82         15  Female     Yes   \n",
       "2  22.530409  104.593   7075     514      4   71         11    Male      No   \n",
       "3  27.652811  148.924   9504     681      3   36         11  Female      No   \n",
       "4  16.893978   55.882   4897     357      2   68         16    Male      No   \n",
       "\n",
       "  Married  Ethnicity  \n",
       "0     Yes  Caucasian  \n",
       "1     Yes      Asian  \n",
       "2      No      Asian  \n",
       "3      No      Asian  \n",
       "4     Yes  Caucasian  "
      ]
     },
     "execution_count": 56,
     "metadata": {},
     "output_type": "execute_result"
    }
   ],
   "source": [
    "# Top of the balance list, testing that the list appears\n",
    "df.head()"
   ]
  },
  {
   "cell_type": "code",
   "execution_count": 57,
   "id": "a099e738-69f7-4826-9db3-457088dee721",
   "metadata": {},
   "outputs": [
    {
     "data": {
      "text/html": [
       "<div>\n",
       "<style scoped>\n",
       "    .dataframe tbody tr th:only-of-type {\n",
       "        vertical-align: middle;\n",
       "    }\n",
       "\n",
       "    .dataframe tbody tr th {\n",
       "        vertical-align: top;\n",
       "    }\n",
       "\n",
       "    .dataframe thead th {\n",
       "        text-align: right;\n",
       "    }\n",
       "</style>\n",
       "<table border=\"1\" class=\"dataframe\">\n",
       "  <thead>\n",
       "    <tr style=\"text-align: right;\">\n",
       "      <th></th>\n",
       "      <th>Balance</th>\n",
       "      <th>Income</th>\n",
       "      <th>Limit</th>\n",
       "      <th>Rating</th>\n",
       "      <th>Cards</th>\n",
       "      <th>Age</th>\n",
       "      <th>Education</th>\n",
       "      <th>Gender</th>\n",
       "      <th>Student</th>\n",
       "      <th>Married</th>\n",
       "      <th>Ethnicity</th>\n",
       "    </tr>\n",
       "  </thead>\n",
       "  <tbody>\n",
       "    <tr>\n",
       "      <th>395</th>\n",
       "      <td>8.764984</td>\n",
       "      <td>12.096</td>\n",
       "      <td>4100</td>\n",
       "      <td>307</td>\n",
       "      <td>3</td>\n",
       "      <td>32</td>\n",
       "      <td>13</td>\n",
       "      <td>Male</td>\n",
       "      <td>No</td>\n",
       "      <td>Yes</td>\n",
       "      <td>Caucasian</td>\n",
       "    </tr>\n",
       "    <tr>\n",
       "      <th>396</th>\n",
       "      <td>9.943838</td>\n",
       "      <td>13.364</td>\n",
       "      <td>3838</td>\n",
       "      <td>296</td>\n",
       "      <td>5</td>\n",
       "      <td>65</td>\n",
       "      <td>17</td>\n",
       "      <td>Male</td>\n",
       "      <td>No</td>\n",
       "      <td>No</td>\n",
       "      <td>African American</td>\n",
       "    </tr>\n",
       "    <tr>\n",
       "      <th>397</th>\n",
       "      <td>14.882078</td>\n",
       "      <td>57.872</td>\n",
       "      <td>4171</td>\n",
       "      <td>321</td>\n",
       "      <td>5</td>\n",
       "      <td>67</td>\n",
       "      <td>12</td>\n",
       "      <td>Female</td>\n",
       "      <td>No</td>\n",
       "      <td>Yes</td>\n",
       "      <td>Caucasian</td>\n",
       "    </tr>\n",
       "    <tr>\n",
       "      <th>398</th>\n",
       "      <td>12.001071</td>\n",
       "      <td>37.728</td>\n",
       "      <td>2525</td>\n",
       "      <td>192</td>\n",
       "      <td>1</td>\n",
       "      <td>44</td>\n",
       "      <td>13</td>\n",
       "      <td>Male</td>\n",
       "      <td>No</td>\n",
       "      <td>Yes</td>\n",
       "      <td>Caucasian</td>\n",
       "    </tr>\n",
       "    <tr>\n",
       "      <th>399</th>\n",
       "      <td>10.159598</td>\n",
       "      <td>18.701</td>\n",
       "      <td>5524</td>\n",
       "      <td>415</td>\n",
       "      <td>5</td>\n",
       "      <td>64</td>\n",
       "      <td>7</td>\n",
       "      <td>Female</td>\n",
       "      <td>No</td>\n",
       "      <td>No</td>\n",
       "      <td>Asian</td>\n",
       "    </tr>\n",
       "  </tbody>\n",
       "</table>\n",
       "</div>"
      ],
      "text/plain": [
       "       Balance  Income  Limit  Rating  Cards  Age  Education  Gender Student  \\\n",
       "395   8.764984  12.096   4100     307      3   32         13    Male      No   \n",
       "396   9.943838  13.364   3838     296      5   65         17    Male      No   \n",
       "397  14.882078  57.872   4171     321      5   67         12  Female      No   \n",
       "398  12.001071  37.728   2525     192      1   44         13    Male      No   \n",
       "399  10.159598  18.701   5524     415      5   64          7  Female      No   \n",
       "\n",
       "    Married         Ethnicity  \n",
       "395     Yes         Caucasian  \n",
       "396      No  African American  \n",
       "397     Yes         Caucasian  \n",
       "398     Yes         Caucasian  \n",
       "399      No             Asian  "
      ]
     },
     "execution_count": 57,
     "metadata": {},
     "output_type": "execute_result"
    }
   ],
   "source": [
    "# Bottom of the balance list\n",
    "df.tail()"
   ]
  },
  {
   "cell_type": "code",
   "execution_count": 58,
   "id": "dfd26fc0-b9fd-4102-be96-0ecb40f6dc6a",
   "metadata": {},
   "outputs": [
    {
     "name": "stdout",
     "output_type": "stream",
     "text": [
      "Ethnicity\n",
      "African American    47.682101\n",
      "Asian               44.187833\n",
      "Caucasian           44.521945\n",
      "Name: Income, dtype: float64\n"
     ]
    }
   ],
   "source": [
    "# Comparing the average income based of ethnicity\n",
    "avg_income_by_ethnicity = df.groupby('Ethnicity')['Income'].mean()\n",
    "print(avg_income_by_ethnicity)"
   ]
  },
  {
   "cell_type": "code",
   "execution_count": 59,
   "id": "d2bbb2f6-1013-49c6-af99-86f0276a54d8",
   "metadata": {},
   "outputs": [
    {
     "name": "stdout",
     "output_type": "stream",
     "text": [
      "Married\n",
      "No     13.493509\n",
      "Yes    13.388473\n",
      "Name: Balance, dtype: float64\n"
     ]
    }
   ],
   "source": [
    "# Finding out who has the highest balance between married and single people\n",
    "avg_balance_by_status = df.groupby('Married')['Balance'].mean()\n",
    "print(avg_balance_by_status )"
   ]
  },
  {
   "cell_type": "code",
   "execution_count": 60,
   "id": "03f22687-05e2-483c-a639-fa55947fc573",
   "metadata": {},
   "outputs": [
    {
     "name": "stdout",
     "output_type": "stream",
     "text": [
      "186.634\n"
     ]
    }
   ],
   "source": [
    "# Finding out the highest income in the data set\n",
    "max_income = df['Income'].max()\n",
    "print(max_income)"
   ]
  },
  {
   "cell_type": "code",
   "execution_count": 61,
   "id": "68322e01-c49b-4217-b806-46dd1350aee1",
   "metadata": {},
   "outputs": [
    {
     "name": "stdout",
     "output_type": "stream",
     "text": [
      "10.354\n"
     ]
    }
   ],
   "source": [
    "# Finding the lowest income in the set\n",
    "min_income = df['Income'].min()\n",
    "print(min_income)"
   ]
  },
  {
   "cell_type": "code",
   "execution_count": 62,
   "id": "c06ff9b7-301a-421f-86d2-437369d10746",
   "metadata": {},
   "outputs": [
    {
     "name": "stdout",
     "output_type": "stream",
     "text": [
      "1183\n"
     ]
    }
   ],
   "source": [
    "# How many cards have we recorded in our dataset\n",
    "total_cards = df['Cards'].sum()\n",
    "print(total_cards)"
   ]
  },
  {
   "cell_type": "code",
   "execution_count": 63,
   "id": "496cef39-9b32-4611-a8a3-925e53eb3c76",
   "metadata": {},
   "outputs": [
    {
     "name": "stdout",
     "output_type": "stream",
     "text": [
      "Male: 193\n",
      "Female: 207\n"
     ]
    }
   ],
   "source": [
    "# How many females do we have information for vs how many males\n",
    "male_count = df['Gender'].tolist().count('Male')\n",
    "female_count = df['Gender'].tolist().count('Female')\n",
    "print(\"Male:\", male_count)\n",
    "print(\"Female:\", female_count)"
   ]
  },
  {
   "cell_type": "code",
   "execution_count": null,
   "id": "e656e3ee-b7aa-4a35-b1c6-c10a61adc8a6",
   "metadata": {},
   "outputs": [],
   "source": []
  }
 ],
 "metadata": {
  "kernelspec": {
   "display_name": "Python 3 (ipykernel)",
   "language": "python",
   "name": "python3"
  },
  "language_info": {
   "codemirror_mode": {
    "name": "ipython",
    "version": 3
   },
   "file_extension": ".py",
   "mimetype": "text/x-python",
   "name": "python",
   "nbconvert_exporter": "python",
   "pygments_lexer": "ipython3",
   "version": "3.12.2"
  }
 },
 "nbformat": 4,
 "nbformat_minor": 5
}
